{
 "cells": [
  {
   "cell_type": "code",
   "execution_count": 1,
   "metadata": {},
   "outputs": [],
   "source": [
    "import numpy as np\n",
    "import pandas as pd\n",
    "import math\n",
    "import statistics as stat\n",
    "from tabulate import tabulate"
   ]
  },
  {
   "cell_type": "code",
   "execution_count": 2,
   "metadata": {},
   "outputs": [
    {
     "name": "stdout",
     "output_type": "stream",
     "text": [
      "AOA : 7.0 \n",
      "\n",
      "Lambda : 6.0 \n",
      "\n",
      "B : 3.0 \n",
      "\n",
      "Cl : 1.29 \n",
      "\n",
      "R : 1200.0 \n",
      "\n",
      "N : 11 \n",
      "\n"
     ]
    }
   ],
   "source": [
    "# Input's\n",
    "       \n",
    "AOA=float(input(\"Enter the Value of AOA = Angle of Attack :\"))\n",
    "print(\"AOA :\",AOA,\"\\n\")\n",
    "\n",
    "Lambda=float(input(\"Enter the Value of Lambda = Tip Speed Ratio :\"))\n",
    "print(\"Lambda :\",Lambda,\"\\n\")\n",
    "\n",
    "B=float(input(\"Enter the Value of B = No. of Blades :\"))\n",
    "print(\"B :\",B,\"\\n\")\n",
    "\n",
    "Cl=float(input(\"Enter the Value of Cl = Lift Coefficient :\"))\n",
    "print(\"Cl :\",Cl,\"\\n\")\n",
    "\n",
    "R=float(input(\"Enter the Value of R = Radius of Hub :\"))\n",
    "print(\"R :\",R,\"\\n\")\n",
    "\n",
    "N = int(input(\"Enter the number of sections you want :\"))\n",
    "print(\"N :\",N,\"\\n\")"
   ]
  },
  {
   "cell_type": "code",
   "execution_count": null,
   "metadata": {},
   "outputs": [],
   "source": []
  }
 ],
 "metadata": {
  "kernelspec": {
   "display_name": "Python 3",
   "language": "python",
   "name": "python3"
  },
  "language_info": {
   "codemirror_mode": {
    "name": "ipython",
    "version": 3
   },
   "file_extension": ".py",
   "mimetype": "text/x-python",
   "name": "python",
   "nbconvert_exporter": "python",
   "pygments_lexer": "ipython3",
   "version": "3.7.0"
  },
  "orig_nbformat": 4
 },
 "nbformat": 4,
 "nbformat_minor": 2
}

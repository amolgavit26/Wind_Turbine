{
 "cells": [
  {
   "cell_type": "code",
   "execution_count": 1,
   "metadata": {},
   "outputs": [],
   "source": [
    "import numpy as np\n",
    "import pandas as pd\n",
    "import math\n",
    "import statistics as stat\n",
    "from tabulate import tabulate"
   ]
  },
  {
   "cell_type": "code",
   "execution_count": 2,
   "metadata": {},
   "outputs": [
    {
     "name": "stdout",
     "output_type": "stream",
     "text": [
      "AOA : 7.0 \n",
      "\n",
      "Lambda : 6.0 \n",
      "\n",
      "B : 3.0 \n",
      "\n",
      "Cl : 1.29 \n",
      "\n",
      "R : 1200.0 \n",
      "\n",
      "N : 11 \n",
      "\n",
      "Enter all values of r = Local Radius of Blade for all sections :\n",
      "[200.0, 300.0, 400.0, 500.0, 600.0, 700.0, 800.0, 900.0, 1000.0, 1100.0, 1200.0]\n"
     ]
    }
   ],
   "source": [
    "# Input's\n",
    "       \n",
    "AOA=float(input(\"Enter the Value of AOA = Angle of Attack :\"))\n",
    "print(\"AOA :\",AOA,\"\\n\")\n",
    "\n",
    "Lambda=float(input(\"Enter the Value of Lambda = Tip Speed Ratio :\"))\n",
    "print(\"Lambda :\",Lambda,\"\\n\")\n",
    "\n",
    "B=float(input(\"Enter the Value of B = No. of Blades :\"))\n",
    "print(\"B :\",B,\"\\n\")\n",
    "\n",
    "Cl=float(input(\"Enter the Value of Cl = Lift Coefficient :\"))\n",
    "print(\"Cl :\",Cl,\"\\n\")\n",
    "\n",
    "R=float(input(\"Enter the Value of R = Radius of Hub :\"))\n",
    "print(\"R :\",R,\"\\n\")\n",
    "\n",
    "N = int(input(\"Enter the number of sections you want :\"))\n",
    "print(\"N :\",N,\"\\n\")\n",
    "section = []\n",
    "for x in range(1,N+1):\n",
    "    section.append(x)\n",
    "\n",
    "local_radius_of_blades = []\n",
    "print(\"Enter all values of r = Local Radius of Blade for all sections :\")\n",
    "for a in range(1,N+1):\n",
    "    x = float(input())\n",
    "    local_radius_of_blades.append(x)\n",
    "print(local_radius_of_blades)"
   ]
  },
  {
   "cell_type": "code",
   "execution_count": 3,
   "metadata": {},
   "outputs": [
    {
     "name": "stdout",
     "output_type": "stream",
     "text": [
      "Local Tip Speed Ratio of all sections :\n",
      "[1.0, 1.5, 2.0, 2.5, 3.0, 3.5, 4.0, 4.5, 5.0, 5.5, 6.0]\n"
     ]
    }
   ],
   "source": [
    "# Local Tip Speed Ratio\n",
    "\n",
    "local_tip_speed_ratio = []\n",
    "for b in local_radius_of_blades:\n",
    "    y = Lambda*(b/R)\n",
    "    local_tip_speed_ratio.append(y)\n",
    "    \n",
    "print(\"Local Tip Speed Ratio of all sections :\")\n",
    "print(local_tip_speed_ratio)"
   ]
  },
  {
   "cell_type": "code",
   "execution_count": 4,
   "metadata": {},
   "outputs": [
    {
     "name": "stdout",
     "output_type": "stream",
     "text": [
      "Relative Angles of all sections :\n",
      "[30.0, 22.46, 17.71, 14.53, 12.29, 10.63, 9.36, 8.35, 7.54, 6.87, 6.31]\n"
     ]
    }
   ],
   "source": [
    "# Calculations for Relative Angle\n",
    "\n",
    "relative_angles = []\n",
    "\n",
    "for x in local_tip_speed_ratio:\n",
    "    b = np.around(((2/3)*np.arctan(1/x)*(180/np.pi)),decimals=2)\n",
    "    relative_angles.append(b)\n",
    "    \n",
    "print(\"Relative Angles of all sections :\")\n",
    "print(relative_angles)"
   ]
  },
  {
   "cell_type": "code",
   "execution_count": 5,
   "metadata": {},
   "outputs": [
    {
     "name": "stdout",
     "output_type": "stream",
     "text": [
      "Chord Length of all sections :\n",
      "[174.01, 147.78, 123.11, 103.85, 89.3, 78.01, 69.17, 61.96, 56.15, 51.29, 47.21]\n"
     ]
    }
   ],
   "source": [
    "# Calculations for Chord Length\n",
    "chord_length = []\n",
    "\n",
    "for x,y in zip(relative_angles,local_radius_of_blades):\n",
    "    b = np.around(((8*np.pi*y)/(B*Cl))*(1-(np.cos(np.radians(x)))),decimals=2)\n",
    "    chord_length.append(b)\n",
    "\n",
    "print(\"Chord Length of all sections :\")\n",
    "print(chord_length)"
   ]
  },
  {
   "cell_type": "code",
   "execution_count": 6,
   "metadata": {},
   "outputs": [
    {
     "name": "stdout",
     "output_type": "stream",
     "text": [
      "Solidity of all sections :\n",
      "[0.415, 0.235, 0.147, 0.099, 0.071, 0.053, 0.041, 0.033, 0.027, 0.022, 0.019]\n"
     ]
    }
   ],
   "source": [
    "# Calculations for Solidity\n",
    "\n",
    "solidity = []\n",
    "\n",
    "for x,y in zip(chord_length,local_radius_of_blades):\n",
    "    b = np.around((B*x)/(2*np.pi*y),decimals=3)\n",
    "    solidity.append(b)\n",
    "\n",
    "print(\"Solidity of all sections :\")\n",
    "print(solidity)"
   ]
  }
 ],
 "metadata": {
  "kernelspec": {
   "display_name": "Python 3",
   "language": "python",
   "name": "python3"
  },
  "language_info": {
   "codemirror_mode": {
    "name": "ipython",
    "version": 3
   },
   "file_extension": ".py",
   "mimetype": "text/x-python",
   "name": "python",
   "nbconvert_exporter": "python",
   "pygments_lexer": "ipython3",
   "version": "3.7.0"
  },
  "orig_nbformat": 4
 },
 "nbformat": 4,
 "nbformat_minor": 2
}

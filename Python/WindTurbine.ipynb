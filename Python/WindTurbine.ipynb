{
 "cells": [
  {
   "cell_type": "code",
   "execution_count": 14,
   "metadata": {},
   "outputs": [],
   "source": [
    "import numpy as np\n",
    "from tabulate import tabulate"
   ]
  },
  {
   "cell_type": "code",
   "execution_count": 15,
   "metadata": {},
   "outputs": [
    {
     "name": "stdout",
     "output_type": "stream",
     "text": [
      "AOA : 7.0 \n",
      "\n",
      "Lambda : 6.0 \n",
      "\n",
      "B : 3.0 \n",
      "\n",
      "Cl : 1.29 \n",
      "\n",
      "R : 1200.0 \n",
      "\n",
      "N : 11 \n",
      "\n",
      "Enter all values of r = Local Radius of Blade for all sections :\n",
      "[200.0, 300.0, 400.0, 500.0, 600.0, 700.0, 800.0, 900.0, 1000.0, 1100.0, 1200.0]\n"
     ]
    }
   ],
   "source": [
    "# Input's\n",
    "       \n",
    "AOA=float(input(\"Enter the Value of AOA = Angle of Attack :\"))\n",
    "print(\"AOA :\",AOA,\"\\n\")\n",
    "\n",
    "Lambda=float(input(\"Enter the Value of Lambda = Tip Speed Ratio :\"))\n",
    "print(\"Lambda :\",Lambda,\"\\n\")\n",
    "\n",
    "B=float(input(\"Enter the Value of B = No. of Blades :\"))\n",
    "print(\"B :\",B,\"\\n\")\n",
    "\n",
    "Cl=float(input(\"Enter the Value of Cl = Lift Coefficient :\"))\n",
    "print(\"Cl :\",Cl,\"\\n\")\n",
    "\n",
    "R=float(input(\"Enter the Value of R = Radius of Hub :\"))\n",
    "print(\"R :\",R,\"\\n\")\n",
    "\n",
    "N = int(input(\"Enter the number of sections you want :\"))\n",
    "print(\"N :\",N,\"\\n\")\n",
    "section = []\n",
    "for x in range(1,N+1):\n",
    "    section.append(x)\n",
    "\n",
    "local_radius_of_blades = []\n",
    "print(\"Enter all values of r = Local Radius of Blade for all sections :\")\n",
    "for a in range(1,N+1):\n",
    "    x = float(input())\n",
    "    local_radius_of_blades.append(x)\n",
    "print(local_radius_of_blades)"
   ]
  },
  {
   "cell_type": "code",
   "execution_count": 25,
   "metadata": {},
   "outputs": [],
   "source": [
    "# Local Tip Speed Ratio\n",
    "\n",
    "local_tip_speed_ratio = []\n",
    "for b in local_radius_of_blades:\n",
    "    y = Lambda*(b/R)\n",
    "    local_tip_speed_ratio.append(y)"
   ]
  },
  {
   "cell_type": "code",
   "execution_count": 26,
   "metadata": {},
   "outputs": [],
   "source": [
    "# Calculations for Relative Angle\n",
    "\n",
    "relative_angles = []\n",
    "\n",
    "for x in local_tip_speed_ratio:\n",
    "    b = np.around(((2/3)*np.arctan(1/x)*(180/np.pi)),decimals=2)\n",
    "    relative_angles.append(b)"
   ]
  },
  {
   "cell_type": "code",
   "execution_count": 27,
   "metadata": {},
   "outputs": [],
   "source": [
    "# Calculations for Chord Length\n",
    "chord_length = []\n",
    "\n",
    "for x,y in zip(relative_angles,local_radius_of_blades):\n",
    "    b = np.around(((8*np.pi*y)/(B*Cl))*(1-(np.cos(np.radians(x)))),decimals=2)\n",
    "    chord_length.append(b)"
   ]
  },
  {
   "cell_type": "code",
   "execution_count": 28,
   "metadata": {},
   "outputs": [],
   "source": [
    "# Calculations for Solidity\n",
    "\n",
    "solidity = []\n",
    "\n",
    "for x,y in zip(chord_length,local_radius_of_blades):\n",
    "    b = np.around((B*x)/(2*np.pi*y),decimals=3)\n",
    "    solidity.append(b)"
   ]
  },
  {
   "cell_type": "code",
   "execution_count": 29,
   "metadata": {},
   "outputs": [],
   "source": [
    "# Calculations for Axial Induction Factor\n",
    "\n",
    "axial_induction_factor = []\n",
    "\n",
    "for x,y in zip(relative_angles,solidity):\n",
    "    b = np.around(1/(1+((4*(np.sin(np.radians(x))**2))/(y*1.29*np.cos(np.radians(x))))),decimals=3)\n",
    "    axial_induction_factor.append(b)"
   ]
  },
  {
   "cell_type": "code",
   "execution_count": 30,
   "metadata": {},
   "outputs": [],
   "source": [
    "# Calculations for Tangential Induction Factor\n",
    "\n",
    "tangential_induction_factor = []\n",
    "\n",
    "for x in axial_induction_factor:\n",
    "    b = np.around(((1-(3*x))/((4*x)-1)),decimals=3)\n",
    "    tangential_induction_factor.append(b)"
   ]
  },
  {
   "cell_type": "code",
   "execution_count": 31,
   "metadata": {},
   "outputs": [],
   "source": [
    "# Calculations for Pitch Angle\n",
    "\n",
    "pitch_angle = []\n",
    "\n",
    "for x in relative_angles:\n",
    "    b = np.around(x-AOA,decimals=2)\n",
    "    pitch_angle.append(b)"
   ]
  },
  {
   "cell_type": "code",
   "execution_count": 32,
   "metadata": {},
   "outputs": [],
   "source": [
    "# Calculations for Twist Angle\n",
    "\n",
    "twist_angle = []\n",
    "\n",
    "for x in pitch_angle:\n",
    "    b = np.around(x-pitch_angle[-1],decimals=2)\n",
    "    twist_angle.append(b)"
   ]
  },
  {
   "cell_type": "code",
   "execution_count": 33,
   "metadata": {},
   "outputs": [
    {
     "name": "stdout",
     "output_type": "stream",
     "text": [
      "╒═══════════╤══════════════════════════╤═════════════════════════╤═══════════════════╤════════════════╤════════════╤═══════════════╤═══════════════╤══════════════════════════╤═══════════════════════════════╕\n",
      "│  section  │  local_radius_of_blades  │  local_tip_speed_ratio  │  relative_angles  │  chord_length  │  solidity  │  pitch_angle  │  twist_angle  │  axial_induction_factor  │  tangential_induction_factor  │\n",
      "╞═══════════╪══════════════════════════╪═════════════════════════╪═══════════════════╪════════════════╪════════════╪═══════════════╪═══════════════╪══════════════════════════╪═══════════════════════════════╡\n",
      "│     1     │           200            │            1            │        30         │     174.01     │   0.415    │      23       │     23.69     │          0.317           │             0.183             │\n",
      "├───────────┼──────────────────────────┼─────────────────────────┼───────────────────┼────────────────┼────────────┼───────────────┼───────────────┼──────────────────────────┼───────────────────────────────┤\n",
      "│     2     │           300            │           1.5           │       22.46       │     147.78     │   0.235    │     15.46     │     16.15     │          0.324           │             0.095             │\n",
      "├───────────┼──────────────────────────┼─────────────────────────┼───────────────────┼────────────────┼────────────┼───────────────┼───────────────┼──────────────────────────┼───────────────────────────────┤\n",
      "│     3     │           400            │            2            │       17.71       │     123.11     │   0.147    │     10.71     │     11.4      │          0.328           │             0.051             │\n",
      "├───────────┼──────────────────────────┼─────────────────────────┼───────────────────┼────────────────┼────────────┼───────────────┼───────────────┼──────────────────────────┼───────────────────────────────┤\n",
      "│     4     │           500            │           2.5           │       14.53       │     103.85     │   0.099    │     7.53      │     8.22      │          0.329           │             0.041             │\n",
      "├───────────┼──────────────────────────┼─────────────────────────┼───────────────────┼────────────────┼────────────┼───────────────┼───────────────┼──────────────────────────┼───────────────────────────────┤\n",
      "│     5     │           600            │            3            │       12.29       │      89.3      │   0.071    │     5.29      │     5.98      │          0.331           │             0.022             │\n",
      "├───────────┼──────────────────────────┼─────────────────────────┼───────────────────┼────────────────┼────────────┼───────────────┼───────────────┼──────────────────────────┼───────────────────────────────┤\n",
      "│     6     │           700            │           3.5           │       10.63       │     78.01      │   0.053    │     3.63      │     4.32      │          0.331           │             0.022             │\n",
      "├───────────┼──────────────────────────┼─────────────────────────┼───────────────────┼────────────────┼────────────┼───────────────┼───────────────┼──────────────────────────┼───────────────────────────────┤\n",
      "│     7     │           800            │            4            │       9.36        │     69.17      │   0.041    │     2.36      │     3.05      │           0.33           │             0.031             │\n",
      "├───────────┼──────────────────────────┼─────────────────────────┼───────────────────┼────────────────┼────────────┼───────────────┼───────────────┼──────────────────────────┼───────────────────────────────┤\n",
      "│     8     │           900            │           4.5           │       8.35        │     61.96      │   0.033    │     1.35      │     2.04      │          0.333           │             0.003             │\n",
      "├───────────┼──────────────────────────┼─────────────────────────┼───────────────────┼────────────────┼────────────┼───────────────┼───────────────┼──────────────────────────┼───────────────────────────────┤\n",
      "│     9     │           1000           │            5            │       7.54        │     56.15      │   0.027    │     0.54      │     1.23      │          0.334           │            -0.006             │\n",
      "├───────────┼──────────────────────────┼─────────────────────────┼───────────────────┼────────────────┼────────────┼───────────────┼───────────────┼──────────────────────────┼───────────────────────────────┤\n",
      "│    10     │           1100           │           5.5           │       6.87        │     51.29      │   0.022    │     -0.13     │     0.56      │           0.33           │             0.031             │\n",
      "├───────────┼──────────────────────────┼─────────────────────────┼───────────────────┼────────────────┼────────────┼───────────────┼───────────────┼──────────────────────────┼───────────────────────────────┤\n",
      "│    11     │           1200           │            6            │       6.31        │     47.21      │   0.019    │     -0.69     │       0       │          0.335           │            -0.015             │\n",
      "╘═══════════╧══════════════════════════╧═════════════════════════╧═══════════════════╧════════════════╧════════════╧═══════════════╧═══════════════╧══════════════════════════╧═══════════════════════════════╛\n"
     ]
    }
   ],
   "source": [
    "data = {\n",
    "    \"section\":section,\n",
    "    \"local_radius_of_blades\":local_radius_of_blades,\n",
    "    \"local_tip_speed_ratio\":local_tip_speed_ratio,\n",
    "    \"relative_angles\":relative_angles,          \n",
    "    \"chord_length\":chord_length,\n",
    "    \"solidity\":solidity,\n",
    "    \"pitch_angle\":pitch_angle,\n",
    "    \"twist_angle\":twist_angle,\n",
    "    \"axial_induction_factor\":axial_induction_factor,\n",
    "    \"tangential_induction_factor\":tangential_induction_factor\n",
    "}\n",
    "print(tabulate(data, headers =\"keys\", tablefmt=\"fancy_grid\", numalign=\"center\"))"
   ]
  }
 ],
 "metadata": {
  "kernelspec": {
   "display_name": "Python 3",
   "language": "python",
   "name": "python3"
  },
  "language_info": {
   "codemirror_mode": {
    "name": "ipython",
    "version": 3
   },
   "file_extension": ".py",
   "mimetype": "text/x-python",
   "name": "python",
   "nbconvert_exporter": "python",
   "pygments_lexer": "ipython3",
   "version": "3.7.0"
  },
  "orig_nbformat": 4
 },
 "nbformat": 4,
 "nbformat_minor": 2
}
